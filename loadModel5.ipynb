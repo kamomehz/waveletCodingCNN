{
 "cells": [
  {
   "cell_type": "code",
   "execution_count": 1,
   "id": "retained-split",
   "metadata": {},
   "outputs": [],
   "source": [
    "# !git clone https://github.com/pengzhiliang/MAE-pytorch\n",
    "# !wget https://image-net.org/data/tiny-imagenet-200.zip\n",
    "# !rm myfuc/trains.py\n",
    "# !rm tinydata/*.png\n",
    "# !pip install --user --process-dependency-links -e "
   ]
  },
  {
   "cell_type": "code",
   "execution_count": 2,
   "id": "binding-tenant",
   "metadata": {},
   "outputs": [
    {
     "name": "stdout",
     "output_type": "stream",
     "text": [
      "/export/work/kamomes/Research\n",
      "True\n"
     ]
    }
   ],
   "source": [
    "from torchvision import transforms\n",
    "from PIL import Image\n",
    "import os,glob\n",
    "import re\n",
    "from myfuc import *\n",
    "\n",
    "%load_ext autoreload\n",
    "%autoreload 2\n",
    "%matplotlib inline\n",
    "\n",
    "!pwd\n",
    "dataLoader=readWTData()\n",
    "datasetMaker=makeDataset()\n",
    "print(torch.cuda.is_available())\n",
    "\n"
   ]
  },
  {
   "cell_type": "code",
   "execution_count": 3,
   "id": "cc5d8081",
   "metadata": {},
   "outputs": [],
   "source": [
    "w, h=7,4\n",
    "def quan(a:\"numpyArray\",q=10):\n",
    "    return np.round(a/q)#.astype(\"int\")"
   ]
  },
  {
   "cell_type": "code",
   "execution_count": 12,
   "id": "285f68f5",
   "metadata": {},
   "outputs": [
    {
     "data": {
      "text/plain": [
       "[1, 2]"
      ]
     },
     "execution_count": 12,
     "metadata": {},
     "output_type": "execute_result"
    }
   ],
   "source": [
    "[1]+[2]"
   ]
  },
  {
   "cell_type": "code",
   "execution_count": 30,
   "id": "1bd24349",
   "metadata": {},
   "outputs": [
    {
     "name": "stdout",
     "output_type": "stream",
     "text": [
      "   BARBARA rmse: 2.826484153002466\n",
      "   BARBARA rmse: 2.6403616075922685\n",
      "   BARBARA rmse: 2.9357422732501903\n",
      "   BARBARA rmse: 2.902463392546429\n",
      "   BARBARA rmse: 2.9332627375695974\n",
      "   BARBARA rmse: 2.9606093200074057\n",
      "   BARBARA rmse: 2.9785872604202193\n",
      "   BARBARA rmse: 2.978502732765556\n",
      "   BARBARA rmse: 3.0150071456033958\n",
      "   BARBARA rmse: 3.002339929033494\n",
      "Data amount = 40762\n",
      "ori.shape = (8, 16)\n"
     ]
    },
    {
     "data": {
      "image/png": "[encoded data removed]",
      "text/plain": [
       "<Figure size 720x360 with 5 Axes>"
      ]
     },
     "metadata": {
      "needs_background": "light"
     },
     "output_type": "display_data"
    }
   ],
   "source": [
    "# Vali set\n",
    "dataLoader=readWTData()\n",
    "datasetMaker=makeDataset()\n",
    "in_list=glob.glob(\"ppwOut_New_5_Q/val/*/\")[0:1]+glob.glob(\"ppwOut_New_5_Q/val/*/\")[2:]\n",
    "# in_list=['ppwOut_New_5_Q/val/BOAT/', 'ppwOut_New_5_Q/val/LENNA/', 'ppwOut_New_5_Q/val/BARBARA/']\n",
    "in_ori=\"ppwOut_New_5_NOQ\"\n",
    "# 0boat 1lenna 2monkey 3bird 4barba\n",
    "imgind=4\n",
    "normType=2\n",
    "# for path0 in in_list:\n",
    "for path0 in in_list[imgind:imgind+1]:\n",
    "    for lv in range(0,5):\n",
    "        imgName=re.findall(\"\\w+/\",path0)[-1][:-1]\n",
    "        \n",
    "        pathLow=path0+\"ewpLH-LCoefR_%d.dig\"%lv\n",
    "        pathHigh=path0+\"ewpLH-HCoef_%d.dig\"%lv\n",
    "        pathRes=path0+\"ewpLH-ImageR_%d.dig\"%lv\n",
    "        pathOri=in_ori+path0[path0.find(\"/\"):]+\"ewpLH-ImageR_%d.dig\"%lv\n",
    "        low,high,res,ori=dataLoader.makeImg(pathLow,pathHigh,pathRes,pathOri) # target is high\n",
    "        print(\"%10s rmse:\"%imgName,rmse(ori,res))\n",
    "        norm=datasetMaker.myN2(low,high,ori,res,width=w, height=h-1,normType=normType)\n",
    "\n",
    "        pathLow=path0+\"ewpHL-LCoefR_%d.dig\"%lv\n",
    "        pathHigh=path0+\"ewpHL-HCoef_%d.dig\"%lv\n",
    "        pathRes=path0+\"ewpHL-ImageR_%d.dig\"%lv\n",
    "        pathOri=in_ori+path0[path0.find(\"/\"):]+\"ewpHL-ImageR_%d.dig\"%lv\n",
    "        low,high,res,ori=dataLoader.makeImg(pathLow,pathHigh,pathRes,pathOri) # target is high\n",
    "        print(\"%10s rmse:\"%imgName,rmse(ori,res))\n",
    "        norm=datasetMaker.myN2(low,high,ori,res,width=w, height=h-1,normType=normType)\n",
    "    \n",
    "        # pathLow=path0+\"ewpHH-LCoefR_%d.dig\"%lv\n",
    "        # pathHigh=path0+\"ewpHH-HCoef_%d.dig\"%lv\n",
    "        # pathRes=path0+\"ewpHH-ImageR_%d.dig\"%lv\n",
    "        # pathOri=in_ori+path0[path0.find(\"/\"):]+\"ewpHH-ImageR_%d.dig\"%lv\n",
    "        # low,high,res,ori=dataLoader.makeImg(pathLow,pathHigh,pathRes,pathOri) # target is high\n",
    "        # print(\"%10s rmse:\"%imgName,rmse(ori,res))\n",
    "        # datasetMaker.myN2(low,high,ori,res,width=w, height=h-1,normType=normType)\n",
    "\n",
    "valData=datasetMaker.out()\n",
    "datasetMaker.plot(low,high,ori,res,5)"
   ]
  },
  {
   "cell_type": "code",
   "execution_count": 31,
   "id": "d14634d1",
   "metadata": {},
   "outputs": [
    {
     "data": {
      "text/plain": [
       "366858"
      ]
     },
     "execution_count": 31,
     "metadata": {},
     "output_type": "execute_result"
    }
   ],
   "source": [
    "40762*9"
   ]
  },
  {
   "cell_type": "code",
   "execution_count": 32,
   "id": "e28f8bd9",
   "metadata": {},
   "outputs": [
    {
     "name": "stdout",
     "output_type": "stream",
     "text": [
      "my_74_2H_dp45_norm2_lr2_batch64/best011.pt\n"
     ]
    },
    {
     "data": {
      "text/plain": [
       "<All keys matched successfully>"
      ]
     },
     "execution_count": 32,
     "metadata": {},
     "output_type": "execute_result"
    }
   ],
   "source": [
    "device=\"cpu\"\n",
    "modelBest=Net_CNN(w*h,0)\n",
    "# modelBest=Net_CNN_simp(w*h,0)\n",
    "# bestPath=sorted(glob.glob(\"my_74_2H_dp45_norm2_lr2_net2/best*.pt\"))[-1]\n",
    "# bestPath=sorted(glob.glob(\"my_74_2H_dp3_norm2_lr2_net1/best*.pt\"))[-1]\n",
    "bestPath=sorted(glob.glob(\"my_74_2H_dp45_norm2_lr2_net1/best*.pt\"))[-1]\n",
    "bestPath=sorted(glob.glob(\"my_74_2H_dp45_norm2_lr2_batch64/best*.pt\"))[-1]\n",
    "print(bestPath)\n",
    "modelBest.load_state_dict(torch.load(bestPath, map_location=device)['state_dict'])"
   ]
  },
  {
   "cell_type": "code",
   "execution_count": 33,
   "id": "4d0e3d56",
   "metadata": {},
   "outputs": [],
   "source": [
    "# utilize\n",
    "plotN=len(valData)\n",
    "vali_loader2=DataLoader(valData,batch_size=plotN,shuffle=0)\n",
    "x, target = next(iter(vali_loader2))\n",
    "\n",
    "y=modelBest(x).detach().numpy()\n",
    "target=target.numpy()\n",
    "\n",
    "# y2=y.reshape((-1,128//1-3))\n",
    "# high2=high.copy()\n",
    "# high2[h-1:,1:-2]=y2*1"
   ]
  },
  {
   "cell_type": "code",
   "execution_count": 34,
   "id": "e307e9ef",
   "metadata": {},
   "outputs": [
    {
     "name": "stderr",
     "output_type": "stream",
     "text": [
      "No handles with labels found to put in legend.\n"
     ]
    },
    {
     "data": {
      "image/png": "[encoded data removed]",
      "text/plain": [
       "<Figure size 864x360 with 2 Axes>"
      ]
     },
     "metadata": {
      "needs_background": "light"
     },
     "output_type": "display_data"
    }
   ],
   "source": [
    "fig, axes = plt.subplots(1,2,figsize=(12,5))\n",
    "fig.suptitle(\"rmseCompareTo0=%0.3f\"%(rmse(y,target)/rmse(target,0)),fontsize=16)\n",
    "ax=axes[1]\n",
    "# ax.plot(y,target,\"r.\")\n",
    "ax.scatter(y,target,color=\"r\",s=1)\n",
    "plim=np.maximum(np.abs(np.min([ax.get_xlim(), ax.get_ylim()])),np.abs(np.max([ax.get_xlim(), ax.get_ylim()])))\n",
    "lims = [-plim,plim]\n",
    "ax.plot(lims, lims, 'k-', alpha=0.7, zorder=0)\n",
    "ax.set_aspect('equal')\n",
    "ax.set_xlim(lims)\n",
    "ax.set_ylim(lims)\n",
    "ax.set_xlabel(\"Output\")\n",
    "ax.set_ylabel(\"Real\")\n",
    "ax.legend()\n",
    "\n",
    "ax=axes[0]\n",
    "ax.hist(target,bins=100,label=\"Real\")\n",
    "ax.hist(y,bins=100,label=\"Output\")\n",
    "ax.set_xlabel(\"Output\")\n",
    "ax.legend()\n",
    "\n",
    "\n",
    "# plt.savefig(\"data9_norm2_nett_boat.png\")\n",
    "# plt.savefig(\"data9_norm2_nett_lenna.png\")\n",
    "# plt.savefig(\"data9_norm2_nett_monkey.png\")\n",
    "# plt.savefig(\"data9_norm2_nett_bird.png\")\n",
    "# plt.savefig(\"data9_norm2_nett_barba.png\")\n",
    "plt.show()"
   ]
  },
  {
   "cell_type": "code",
   "execution_count": 35,
   "id": "4a48e97c",
   "metadata": {},
   "outputs": [
    {
     "name": "stdout",
     "output_type": "stream",
     "text": [
      "0.73265624 0.781169 0.779455\n"
     ]
    }
   ],
   "source": [
    "print(rmse(y,target)/rmse(target,0),atan(y,target)/atan(target,0),mae(y,target)/mae(target,0))"
   ]
  },
  {
   "cell_type": "code",
   "execution_count": 128,
   "id": "ef597721",
   "metadata": {},
   "outputs": [
    {
     "name": "stdout",
     "output_type": "stream",
     "text": [
      "2241.555 121.47865 4414.24\n"
     ]
    }
   ],
   "source": [
    "print(rmse(y,target)/rmse(target,0),atan(y,target)/atan(target,0),mae(y,target)/mae(target,0))"
   ]
  },
  {
   "cell_type": "code",
   "execution_count": null,
   "id": "61b49c48",
   "metadata": {},
   "outputs": [],
   "source": [
    "0.681 0.810 0.968 0.805 0.740"
   ]
  },
  {
   "cell_type": "code",
   "execution_count": 116,
   "id": "ac67cd93",
   "metadata": {},
   "outputs": [
    {
     "name": "stdout",
     "output_type": "stream",
     "text": [
      "Boat, Lenna, Barbara\n",
      "deep: 0.668 0.82 0.708\n"
     ]
    }
   ],
   "source": [
    "# regression\n",
    "print(\"Boat, Lenna, Barbara\")\n",
    "print(\"deep:\",0.668,0.82,0.708)"
   ]
  },
  {
   "cell_type": "code",
   "execution_count": null,
   "id": "4af1282a",
   "metadata": {},
   "outputs": [],
   "source": [
    "# from matplotlib.colors import ListedColormap\n",
    "\n",
    "# s=5\n",
    "# color = plt.get_cmap('PiYG')\n",
    "# vm=50*5440/428.34\n",
    "# plt.figure(figsize=(s*3,s*2))\n",
    "# plt.subplot(241)\n",
    "# plt.imshow(high,cmap=color,vmin=-vm, vmax=vm)\n",
    "# plt.title(\"Origin\")\n",
    "# # plt.colorbar()\n",
    "# plt.subplot(242)\n",
    "# plt.imshow(high2,cmap=color,vmin=-vm, vmax=vm)\n",
    "# plt.title(\"Out\")\n",
    "# # plt.colorbar()\n",
    "# plt.subplot(243)\n",
    "# plt.imshow(high-high2,cmap=color,vmin=-vm, vmax=vm)\n",
    "# plt.title(\"Diff\")\n",
    "# plt.subplot(244)\n",
    "# plt.colorbar()\n"
   ]
  },
  {
   "cell_type": "code",
   "execution_count": 90,
   "id": "50831c2e",
   "metadata": {},
   "outputs": [],
   "source": [
    "def psnr(rmse):\n",
    "    return 20*np.log10((255**2-1)**2/rmse)\n"
   ]
  },
  {
   "cell_type": "code",
   "execution_count": 69,
   "id": "9832d449",
   "metadata": {},
   "outputs": [
    {
     "name": "stdout",
     "output_type": "stream",
     "text": [
      "conv1.weight torch.Size([64, 1, 3, 3])\n",
      "conv1.bias torch.Size([64])\n",
      "fc1.weight torch.Size([512, 1792])\n",
      "fc1.bias torch.Size([512])\n",
      "fc2.weight torch.Size([1, 512])\n",
      "fc2.bias torch.Size([1])\n",
      "parameter num = 919169\n"
     ]
    }
   ],
   "source": [
    "#SAVE MODEL\n",
    "for name, param in modelBest.named_parameters():\n",
    "    print(name,param.size())\n",
    "pp=0\n",
    "for p in list(modelBest.parameters()):\n",
    "    nn=1\n",
    "    for s in list(p.size()):\n",
    "        nn = nn*s\n",
    "    pp += nn\n",
    "print(\"parameter num = %d\"%pp)"
   ]
  },
  {
   "cell_type": "code",
   "execution_count": 70,
   "id": "435e7e03",
   "metadata": {},
   "outputs": [
    {
     "data": {
      "text/plain": [
       "0.5948232069118821"
      ]
     },
     "execution_count": 70,
     "metadata": {},
     "output_type": "execute_result"
    }
   ],
   "source": [
    "919169/1545281"
   ]
  },
  {
   "cell_type": "code",
   "execution_count": 198,
   "id": "6c71a0b3",
   "metadata": {},
   "outputs": [
    {
     "data": {
      "text/plain": [
       "'my_74_2H_dp45_norm2_lr2_net1/best011.pt'"
      ]
     },
     "execution_count": 198,
     "metadata": {},
     "output_type": "execute_result"
    }
   ],
   "source": [
    "bestPath"
   ]
  },
  {
   "cell_type": "code",
   "execution_count": 36,
   "id": "7fe8062b",
   "metadata": {},
   "outputs": [],
   "source": [
    "xs=[]\n",
    "for p in list(modelBest.parameters()):\n",
    "    xs.extend(np.ravel(p.detach().numpy()))\n",
    "out=\"\"\n",
    "for i in range(len(xs)):\n",
    "    out+=\"%f,\"%xs[i]\n",
    "\n",
    "# C: complexed S: simple (network)\n",
    "# f=open('Q10_C_2H_model','w')\n",
    "# f=open('PPWB_NEW_modi/Q10_C_2H_atan_model','w')\n",
    "# f=open('PPWB_NEW_modi/Q10_C_2H_simp2_norm2','w')\n",
    "# f=open('PPWBka/my_74_2H_dp3_norm1_3lr_simp','w')\n",
    "# f=open('PPWBka/my_74_2H_dp3_norm0_lr2','w')\n",
    "# f=open('PPWBka/my_74_2H_dp45_norm2_lr2','w')\n",
    "f=open('PPWBka/my_74_2H_dp45_norm2_lr2_batch64','w')\n",
    "# f=open('Q10_S_2H_model','w')\n",
    "f.write(out)\n",
    "f.close()"
   ]
  },
  {
   "cell_type": "code",
   "execution_count": 117,
   "id": "e55eb6fd",
   "metadata": {},
   "outputs": [
    {
     "data": {
      "text/plain": [
       "4.5"
      ]
     },
     "execution_count": 117,
     "metadata": {},
     "output_type": "execute_result"
    }
   ],
   "source": [
    "np.average(np.arange(10).reshape((2,5)))"
   ]
  },
  {
   "cell_type": "code",
   "execution_count": 208,
   "id": "4c7bc269",
   "metadata": {},
   "outputs": [],
   "source": [
    "class Net_CNN2(nn.Module):\n",
    "    def __init__(self,inputSize):\n",
    "        super(Net_CNN2, self).__init__()\n",
    "        self.inputSize=inputSize\n",
    "        self.conv1 = nn.Conv2d(1, 32, 3, padding=1)\n",
    "        self.conv2 = nn.Conv2d(32, 128, 3, padding=1)\n",
    "        self.conv3 = nn.Conv2d(128, 512, 3, padding=1)\n",
    "        self.fc1 = nn.Linear(inputSize*512, 64)\n",
    "        self.fc2 = nn.Linear(64, 1)\n",
    "\n",
    "\n",
    "    def forward(self, x):\n",
    "        x = F.leaky_relu(self.conv1(x))\n",
    "        x = F.leaky_relu(self.conv2(x))\n",
    "        x = F.leaky_relu(self.conv3(x))\n",
    "        x = torch.flatten(x, 1)\n",
    "        # x = self.fc1(x)\n",
    "        x = F.leaky_relu(self.fc1(x))\n",
    "        x = self.fc2(x)\n",
    "        return x\n"
   ]
  },
  {
   "cell_type": "code",
   "execution_count": 209,
   "id": "b29e3237",
   "metadata": {},
   "outputs": [],
   "source": [
    "x2=x[0:1].clone()\n",
    "x2n=x2[0,0].detach().numpy()"
   ]
  },
  {
   "cell_type": "code",
   "execution_count": 210,
   "id": "796a9832",
   "metadata": {},
   "outputs": [],
   "source": [
    "model=Net_CNN2(w*h)\n",
    "model.load_state_dict(torch.load(bestPath, map_location=device)['state_dict'])\n",
    "y=model(x2).detach().numpy()"
   ]
  },
  {
   "cell_type": "code",
   "execution_count": 257,
   "id": "303e6c6f",
   "metadata": {},
   "outputs": [
    {
     "data": {
      "text/plain": [
       "array([[  3.,   2.,   4.,   3.,   1.],\n",
       "       [  5.,   5.,   4.,   4.,   3.],\n",
       "       [  5.,  -8.,   8.,   1.,   8.],\n",
       "       [  9., -17.,   1.,  10.,   3.],\n",
       "       [ 19.,  -5.,  20.,   6.,   0.]])"
      ]
     },
     "execution_count": 257,
     "metadata": {},
     "output_type": "execute_result"
    }
   ],
   "source": [
    "my1=quan(y.reshape(-1)*norm).reshape((-1,5))\n",
    "my1"
   ]
  },
  {
   "cell_type": "code",
   "execution_count": 256,
   "id": "a67d8aef",
   "metadata": {},
   "outputs": [
    {
     "data": {
      "text/plain": [
       "array([[ 15.,  26.,   5.,  11.,   8.],\n",
       "       [ -3., -26.,  13., -25.,  28.],\n",
       "       [ 22.,   3.,  12.,   4., -12.],\n",
       "       [ 65., -56., -17.,  38., -27.],\n",
       "       [ 45., -48., -10.,   6., -10.]])"
      ]
     },
     "execution_count": 256,
     "metadata": {},
     "output_type": "execute_result"
    }
   ],
   "source": [
    "base=quan((target.reshape(-1)*norm).reshape((-1,5)))\n",
    "base"
   ]
  },
  {
   "cell_type": "code",
   "execution_count": 252,
   "id": "89df747b",
   "metadata": {},
   "outputs": [
    {
     "data": {
      "text/plain": [
       "array([[ 12.,  24.,   1.,   8.,   7.],\n",
       "       [ -8., -30.,   9., -29.,  26.],\n",
       "       [ 17.,  11.,   4.,   3., -20.],\n",
       "       [ 56., -39., -18.,  28., -31.],\n",
       "       [ 26., -43., -30.,   0., -10.]])"
      ]
     },
     "execution_count": 252,
     "metadata": {},
     "output_type": "execute_result"
    }
   ],
   "source": [
    "base=quan(((target-y).reshape(-1)*norm).reshape((-1,5)))\n",
    "base"
   ]
  },
  {
   "cell_type": "code",
   "execution_count": 258,
   "id": "15753607",
   "metadata": {},
   "outputs": [
    {
     "name": "stdout",
     "output_type": "stream",
     "text": [
      "0.8818016912827228\n"
     ]
    }
   ],
   "source": [
    "print(rmse(my1,base)/rmse(base,0))"
   ]
  },
  {
   "cell_type": "code",
   "execution_count": null,
   "id": "ea27f168",
   "metadata": {},
   "outputs": [],
   "source": []
  },
  {
   "cell_type": "code",
   "execution_count": 1,
   "id": "f0e6e8d5",
   "metadata": {},
   "outputs": [
    {
     "ename": "SyntaxError",
     "evalue": "invalid syntax (1265154095.py, line 1)",
     "output_type": "error",
     "traceback": [
      "\u001b[0;36m  File \u001b[0;32m\"/tmp/ipykernel_1048619/1265154095.py\"\u001b[0;36m, line \u001b[0;32m1\u001b[0m\n\u001b[0;31m    ===================varH = 15618.000000,  varDH = 37588.000000\u001b[0m\n\u001b[0m    ^\u001b[0m\n\u001b[0;31mSyntaxError\u001b[0m\u001b[0;31m:\u001b[0m invalid syntax\n"
     ]
    }
   ],
   "source": [
    "Boat\n",
    "10\n",
    "\n",
    "norm2\n",
    "===================varH = 14937.000000,  varDH = 35769.000000 \n",
    "=====ppwContext->arithRate, ppwContext->spihtRate: 1.16993713(1.216) \n",
    "\n",
    "\n",
    "norm0\n",
    "===================varH = 15618.000000,  varDH = 37588.000000 \n",
    "=====ppwContext->arithRate, ppw1.21087646Context->spihtRate: 1.20124817(1.252) \n",
    "\n",
    "===================varH = 15510.000000,  varDH = 38146.000000 \n",
    "=====ppwContext->arithRate, ppwContext->spihtRate: 1.21087646(1.259) \n",
    "\n",
    "===================varH = 15706.000000,  varDH = 44031.000000 \n",
    "=====ppwContext->arithRate, ppwContext->spihtRate: 1.24598694(1.287) \n",
    "\n",
    "\n",
    "\n",
    "50\n",
    "my norm2\n",
    "===================varH = 3862.000000,  varDH = 5539.000000 \n",
    "=====ppwContext->arithRate, ppwContext->spihtRate: 0.32563782(0.341) \n",
    "\n",
    "\n",
    "my norm0\n",
    "===================varH = 3916.000000,  varDH = 5659.000000 \n",
    "=====ppwContext->arithRate, ppwContext->spihtRate: 0.32901001(0.344) \n",
    "\n",
    "line\n",
    "===================varH = 3993.000000,  varDH = 5909.000000 \n",
    "=====ppwContext->arithRate, ppwContext->spihtRate: 0.33593750(0.352) \n",
    "\n",
    "zero\n",
    "===================varH = 4460.000000,  varDH = 6691.000000 \n",
    "=====ppwContext->arithRate, ppwContext->spihtRate: 0.35482788(0.367) \n",
    "\n",
    "\n",
    "80\n",
    "norm2\n",
    "===================varH = 2239.000000,  varDH = 2950.000000 \n",
    "=====ppwContext->arithRate, ppwContext->spihtRate: 0.20152283(0.214) \n",
    "\n",
    "===================varH = 2279.000000,  varDH = 3108.000000 \n",
    "=====ppwContext->arithRate, ppwContext->spihtRate: 0.20570374(0.218) \n",
    "\n",
    "===================varH = 2498.000000,  varDH = 3419.000000 \n",
    "=====ppwContext->arithRate, ppwContext->spihtRate: 0.21194458(0.222) "
   ]
  },
  {
   "cell_type": "code",
   "execution_count": 12,
   "id": "8ea5d503",
   "metadata": {},
   "outputs": [
    {
     "data": {
      "text/plain": [
       "array([78725.00006912, 79355.99968256, 81657.00009984])"
      ]
     },
     "execution_count": 12,
     "metadata": {},
     "output_type": "execute_result"
    }
   ],
   "source": [
    "256*256*np.array([1.20124817,1.21087646,1.24598694])"
   ]
  },
  {
   "cell_type": "code",
   "execution_count": 160,
   "id": "4d6c677f",
   "metadata": {},
   "outputs": [
    {
     "data": {
      "text/plain": [
       "0.020324909989482998"
      ]
     },
     "execution_count": 160,
     "metadata": {},
     "output_type": "execute_result"
    }
   ],
   "source": [
    "1-0.20152283/0.20570374"
   ]
  },
  {
   "cell_type": "code",
   "execution_count": 96,
   "id": "3de2dbb8",
   "metadata": {},
   "outputs": [
    {
     "name": "stdout",
     "output_type": "stream",
     "text": [
      "conv1.weight torch.Size([32, 1, 3, 3])\n",
      "conv1.bias torch.Size([32])\n",
      "conv2.weight torch.Size([128, 32, 3, 3])\n",
      "conv2.bias torch.Size([128])\n",
      "conv3.weight torch.Size([512, 128, 3, 3])\n",
      "conv3.bias torch.Size([512])\n",
      "fc1.weight torch.Size([64, 14336])\n",
      "fc1.bias torch.Size([64])\n",
      "fc2.weight torch.Size([1, 64])\n",
      "fc2.bias torch.Size([1])\n"
     ]
    }
   ],
   "source": [
    "for name, param in model.named_parameters():\n",
    "    if param.requires_grad:\n",
    "        print(name,param.size())"
   ]
  },
  {
   "cell_type": "code",
   "execution_count": 147,
   "id": "5731b6c7",
   "metadata": {},
   "outputs": [
    {
     "data": {
      "image/png": "[encoded data removed]",
      "text/plain": [
       "<Figure size 1440x360 with 1 Axes>"
      ]
     },
     "metadata": {
      "needs_background": "light"
     },
     "output_type": "display_data"
    }
   ],
   "source": [
    "# 10 20 30 50 80 100\n",
    "y=[40.782311,36.742401,34.3347840,31.228683,28.475659,27.363759]\n",
    "\n",
    "x1=[1.24598694,0.74929810,0.54940796,0.3548278,0.21194458,0.16079712]\n",
    "x2=[1.21177673,0.71305847,0.51844788,0.33593750,0.20570374,0.16017151]\n",
    "x3=[1.19046021,0.70359802,0.51188660,0.3329010,0.20356750,0.15852356]\n",
    "\n",
    "x4=[1.16993713,0.32563782,0.20152283]\n",
    "y4=[40.782311,31.228683,28.475659]\n",
    "\n",
    "ss=21\n",
    "\n",
    "plt.figure(figsize=(20,5))\n",
    "plt.scatter(x1,y,label=\"Zero\",s=ss)\n",
    "plt.scatter(x2,y,label=\"LineP\",s=ss)\n",
    "plt.scatter(x3,y,label=\"LineP_0\",s=ss)\n",
    "plt.scatter(x4,y4,label=\"CNN\",s=ss)\n",
    "# plt.scatter(x5,y5,label=\"CNN_tan\",s=ss)\n",
    "plt.xlabel(\"Bit\")\n",
    "plt.ylabel(\"PSNR\")\n",
    "# plt.xscale(\"log\")\n",
    "plt.legend()\n",
    "plt.show()"
   ]
  },
  {
   "cell_type": "code",
   "execution_count": null,
   "id": "30951a4a-78fa-4660-aab8-4980cdba11a8",
   "metadata": {},
   "outputs": [],
   "source": [
    "/"
   ]
  },
  {
   "cell_type": "code",
   "execution_count": 1,
   "id": "cb95eae7-a07c-499c-8189-cc958452d670",
   "metadata": {},
   "outputs": [
    {
     "data": {
      "image/png": "[encoded data removed]",
      "text/plain": [
       "<Figure size 1440x360 with 1 Axes>"
      ]
     },
     "metadata": {
      "needs_background": "light"
     },
     "output_type": "display_data"
    }
   ],
   "source": [
    "import matplotlib.pyplot as plt\n",
    "\n",
    "# 10 20 30 50 80 100\n",
    "y=[40.782311,36.742401,35.3347840,32.7,30.528683]\n",
    "x1=[1.059,0.476,0.309,0.184,0.112]\n",
    "x4=[1.066,0.477,0.312,0.186,0.114]\n",
    "/\n",
    "x2=[1.05768,0.4855995,0.32432,0.19490433,0.11978]\n",
    "x3=[1.088, 0.5047, 0.3370, 0.202, 0.12343597]\n",
    "\n",
    "\n",
    "ss=21\n",
    "\n",
    "plt.figure(figsize=(20,5))\n",
    "plt.scatter(x3,y,label=\"Zero\",s=ss)\n",
    "plt.scatter(x1,y,label=\"Take\",s=ss)\n",
    "plt.scatter(x2,y,label=\"CNN\",s=ss)\n",
    "# plt.scatter(x5,y5,label=\"CNN_tan\",s=ss)\n",
    "plt.xlabel(\"Bit\")\n",
    "plt.ylabel(\"PSNR\")\n",
    "plt.xscale(\"log\")\n",
    "plt.legend()\n",
    "plt.show()"
   ]
  },
  {
   "cell_type": "code",
   "execution_count": null,
   "id": "dca983ec",
   "metadata": {},
   "outputs": [],
   "source": [
    "===================varH = 25218.000000,  varDH = 67232.000000 \n",
    "=====ppwContext->arithRate, ppwContext->spihtRate: 1.85675049(1.926) \n",
    "===================varH = 25538.000000,  varDH = 68393.000000 \n",
    "=====ppwContext->arithRate, ppwContext->spihtRate: 1.88246155(1.952) \n",
    "===================varH = 25115.000000,  varDH = 72238.000000 \n",
    "=====ppwContext->arithRate, ppwContext->spihtRate: 1.85935974(1.921) "
   ]
  },
  {
   "cell_type": "code",
   "execution_count": null,
   "id": "faa4e3d3",
   "metadata": {},
   "outputs": [],
   "source": [
    "\n",
    "varH = 15706.000000,  varDH = 44031.000000 0\n",
    "varH = 15510.000000,  varDH = 38146.000000 lineP\n",
    "varH = 15279.000000,  varDH = 37429.000000 lineP_0\n"
   ]
  },
  {
   "cell_type": "code",
   "execution_count": 48,
   "id": "28ec8520",
   "metadata": {},
   "outputs": [
    {
     "data": {
      "text/plain": [
       "tensor([2.])"
      ]
     },
     "execution_count": 48,
     "metadata": {},
     "output_type": "execute_result"
    }
   ],
   "source": [
    "(torch.tensor([1.8])+0.5)//1"
   ]
  },
  {
   "cell_type": "markdown",
   "id": "54ab846c",
   "metadata": {},
   "source": [
    "Boat\n",
    "q=50\n",
    "31.228683 at 0.35482788(0.367) 0\n",
    "25.609376 at 0.32940674(0.345) LineP\n",
    "26.804441 at 0.36174011(0.376) my lv5 norm\n",
    "\n",
    "q=30\n",
    "\n",
    "34.334784 at 0.54940796(0.567)  0\n",
    "28.544027 at 0.51005554(0.531)  LineP\n",
    "  my\n",
    "\n",
    "q=10\n",
    "40.782311 at 1.24598694(1.287) 0\n",
    "33.562756 at 1.18949890(1.236) LineP\n",
    "35.230403 at 1.24766541(1.291) my Norm 5\n",
    "\n",
    "Lenna\n",
    "q=10\n",
    "40.742675 at 1.34902954(1.393) sqrt(varH) = 8360.691577 0\n",
    "40.742675 at 1.36962891(1.417) sqrt(varDH) = 7945.720206  LineP\n",
    "40.742675 at 1.36219788(1.409) sqrt(varDH) = 8392.344365  my Norm\n",
    "\n",
    "q=50\n",
    "\n",
    "Barbara\n",
    "q=10\n",
    "39.755350 at 1.85935974(1.921) sqrt(varH) = 8011.743679 0\n",
    "39.755350 at 1.88267517(1.952) sqrt(varDH) = 7747.423349 LineP\n",
    "39.755350 at 1.87809753(1.943) sqrt(varDH) = 8191.751315 my Norm"
   ]
  }
 ],
 "metadata": {
  "interpreter": {
   "hash": "916dbcbb3f70747c44a77c7bcd40155683ae19c65e1c03b4aa3499c5328201f1"
  },
  "kernelspec": {
   "display_name": "Python 3 (ipykernel)",
   "language": "python",
   "name": "python3"
  },
  "language_info": {
   "codemirror_mode": {
    "name": "ipython",
    "version": 3
   },
   "file_extension": ".py",
   "mimetype": "text/x-python",
   "name": "python",
   "nbconvert_exporter": "python",
   "pygments_lexer": "ipython3",
   "version": "3.8.10"
  }
 },
 "nbformat": 4,
 "nbformat_minor": 5
}
