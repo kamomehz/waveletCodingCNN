{
 "cells": [
  {
   "cell_type": "code",
   "execution_count": 1,
   "id": "retained-split",
   "metadata": {},
   "outputs": [],
   "source": [
    "# !git clone https://github.com/pengzhiliang/MAE-pytorch\n",
    "# !wget https://image-net.org/data/tiny-imagenet-200.zip\n",
    "# !rm myfuc/trains.p\n",
    "# !rm tinydata/*.png\n",
    "# !pip install --user --process-dependency-links -e "
   ]
  },
  {
   "cell_type": "code",
   "execution_count": 2,
   "id": "binding-tenant",
   "metadata": {},
   "outputs": [
    {
     "ename": "ModuleNotFoundError",
     "evalue": "No module named 'torch'",
     "output_type": "error",
     "traceback": [
      "\u001b[0;31m---------------------------------------------------------------------------\u001b[0m",
      "\u001b[0;31mModuleNotFoundError\u001b[0m                       Traceback (most recent call last)",
      "\u001b[0;32m/tmp/ipykernel_1082303/2420872371.py\u001b[0m in \u001b[0;36m<module>\u001b[0;34m\u001b[0m\n\u001b[0;32m----> 1\u001b[0;31m \u001b[0;32mfrom\u001b[0m \u001b[0mtorchvision\u001b[0m \u001b[0;32mimport\u001b[0m \u001b[0mtransforms\u001b[0m\u001b[0;34m\u001b[0m\u001b[0;34m\u001b[0m\u001b[0m\n\u001b[0m\u001b[1;32m      2\u001b[0m \u001b[0;32mfrom\u001b[0m \u001b[0mPIL\u001b[0m \u001b[0;32mimport\u001b[0m \u001b[0mImage\u001b[0m\u001b[0;34m\u001b[0m\u001b[0;34m\u001b[0m\u001b[0m\n\u001b[1;32m      3\u001b[0m \u001b[0;32mimport\u001b[0m \u001b[0mos\u001b[0m\u001b[0;34m,\u001b[0m\u001b[0mglob\u001b[0m\u001b[0;34m\u001b[0m\u001b[0;34m\u001b[0m\u001b[0m\n\u001b[1;32m      4\u001b[0m \u001b[0;32mimport\u001b[0m \u001b[0mre\u001b[0m\u001b[0;34m\u001b[0m\u001b[0;34m\u001b[0m\u001b[0m\n\u001b[1;32m      5\u001b[0m \u001b[0;32mfrom\u001b[0m \u001b[0mmyfuc\u001b[0m \u001b[0;32mimport\u001b[0m \u001b[0;34m*\u001b[0m\u001b[0;34m\u001b[0m\u001b[0;34m\u001b[0m\u001b[0m\n",
      "\u001b[0;32m/opt/anaconda3/lib/python3.9/site-packages/torchvision/__init__.py\u001b[0m in \u001b[0;36m<module>\u001b[0;34m\u001b[0m\n\u001b[1;32m      2\u001b[0m \u001b[0;32mimport\u001b[0m \u001b[0mos\u001b[0m\u001b[0;34m\u001b[0m\u001b[0;34m\u001b[0m\u001b[0m\n\u001b[1;32m      3\u001b[0m \u001b[0;34m\u001b[0m\u001b[0m\n\u001b[0;32m----> 4\u001b[0;31m \u001b[0;32mfrom\u001b[0m \u001b[0;34m.\u001b[0m\u001b[0mextension\u001b[0m \u001b[0;32mimport\u001b[0m \u001b[0m_HAS_OPS\u001b[0m\u001b[0;34m\u001b[0m\u001b[0;34m\u001b[0m\u001b[0m\n\u001b[0m\u001b[1;32m      5\u001b[0m \u001b[0;34m\u001b[0m\u001b[0m\n\u001b[1;32m      6\u001b[0m \u001b[0;32mfrom\u001b[0m \u001b[0mtorchvision\u001b[0m \u001b[0;32mimport\u001b[0m \u001b[0mmodels\u001b[0m\u001b[0;34m\u001b[0m\u001b[0;34m\u001b[0m\u001b[0m\n",
      "\u001b[0;32m/opt/anaconda3/lib/python3.9/site-packages/torchvision/extension.py\u001b[0m in \u001b[0;36m<module>\u001b[0;34m\u001b[0m\n\u001b[1;32m      4\u001b[0m \u001b[0;32mfrom\u001b[0m \u001b[0mwarnings\u001b[0m \u001b[0;32mimport\u001b[0m \u001b[0mwarn\u001b[0m\u001b[0;34m\u001b[0m\u001b[0;34m\u001b[0m\u001b[0m\n\u001b[1;32m      5\u001b[0m \u001b[0;34m\u001b[0m\u001b[0m\n\u001b[0;32m----> 6\u001b[0;31m \u001b[0;32mimport\u001b[0m \u001b[0mtorch\u001b[0m\u001b[0;34m\u001b[0m\u001b[0;34m\u001b[0m\u001b[0m\n\u001b[0m\u001b[1;32m      7\u001b[0m \u001b[0;34m\u001b[0m\u001b[0m\n\u001b[1;32m      8\u001b[0m \u001b[0;32mfrom\u001b[0m \u001b[0;34m.\u001b[0m\u001b[0m_internally_replaced_utils\u001b[0m \u001b[0;32mimport\u001b[0m \u001b[0m_get_extension_path\u001b[0m\u001b[0;34m\u001b[0m\u001b[0;34m\u001b[0m\u001b[0m\n",
      "\u001b[0;31mModuleNotFoundError\u001b[0m: No module named 'torch'"
     ]
    }
   ],
   "source": [
    "from torchvision import transforms\n",
    "from PIL import Image\n",
    "import os,glob\n",
    "import re\n",
    "from myfuc import *\n",
    "\n",
    "%load_ext autoreload\n",
    "%autoreload 2\n",
    "%matplotlib inline\n",
    "\n",
    "!pwd\n",
    "dataLoader=readWTData()\n",
    "datasetMaker=makeDataset()\n",
    "print(torch.cuda.is_available())"
   ]
  },
  {
   "cell_type": "code",
   "execution_count": 27,
   "id": "331dacb4",
   "metadata": {},
   "outputs": [],
   "source": [
    "w, h=7,4\n",
    "normType=2"
   ]
  },
  {
   "cell_type": "code",
   "execution_count": 28,
   "id": "7e7d5f2f",
   "metadata": {},
   "outputs": [
    {
     "name": "stdout",
     "output_type": "stream",
     "text": [
      "  Building high rmse: 10.016296376271193\n",
      "  Building high rmse: 12.246581970189697\n",
      "  Building high rmse: 30.587320174857833\n",
      "  Building high rmse: 35.87003678707103\n",
      "  Building high rmse: 71.52297377433294\n",
      "  Building high rmse: 84.80243317024649\n",
      "  Building high rmse: 173.50053301786016\n",
      "  Building high rmse: 241.3964537812486\n",
      "  Building high rmse: 382.2173989422231\n",
      "  Building high rmse: 753.0745614538951\n",
      "     WOMAN high rmse: 12.01311121995045\n",
      "     WOMAN high rmse: 7.042006014586463\n",
      "     WOMAN high rmse: 27.84526838666734\n",
      "     WOMAN high rmse: 19.7005109334191\n",
      "     WOMAN high rmse: 65.86229244019574\n",
      "     WOMAN high rmse: 51.03208508654746\n",
      "     WOMAN high rmse: 167.54876823562952\n",
      "     WOMAN high rmse: 140.7934016724491\n",
      "     WOMAN high rmse: 339.8856451943199\n",
      "     WOMAN high rmse: 265.81332513576695\n",
      "    BRIDGE high rmse: 18.692800040136227\n",
      "    BRIDGE high rmse: 21.89698252313198\n",
      "    BRIDGE high rmse: 34.31023852346127\n",
      "    BRIDGE high rmse: 44.56626892441444\n",
      "    BRIDGE high rmse: 67.02060610580392\n",
      "    BRIDGE high rmse: 92.86252343486377\n",
      "    BRIDGE high rmse: 134.81158367592028\n",
      "    BRIDGE high rmse: 200.72220000633683\n",
      "    BRIDGE high rmse: 309.44149348664564\n",
      "    BRIDGE high rmse: 505.5741579562266\n",
      "    couple high rmse: 7.27932179130213\n",
      "    couple high rmse: 6.179312319194617\n",
      "    couple high rmse: 24.097833570379276\n",
      "    couple high rmse: 17.90627733430758\n",
      "    couple high rmse: 56.4092523933185\n",
      "    couple high rmse: 44.85488230302407\n",
      "    couple high rmse: 137.87603679683858\n",
      "    couple high rmse: 87.46078808632926\n",
      "    couple high rmse: 314.29994992267854\n",
      "    couple high rmse: 169.89776009014133\n",
      " Cameraman high rmse: 16.75333704747834\n",
      " Cameraman high rmse: 12.07189298416684\n",
      " Cameraman high rmse: 42.538868975731596\n",
      " Cameraman high rmse: 25.950836308045368\n",
      " Cameraman high rmse: 82.16128347299178\n",
      " Cameraman high rmse: 63.09543097791028\n",
      " Cameraman high rmse: 211.77286624446228\n",
      " Cameraman high rmse: 135.5290326957543\n",
      " Cameraman high rmse: 358.1437642131024\n",
      " Cameraman high rmse: 335.2699718967486\n",
      "      girl high rmse: 5.61099232799271\n",
      "      girl high rmse: 6.969058880151406\n",
      "      girl high rmse: 16.260287647633994\n",
      "      girl high rmse: 22.458135415887497\n",
      "      girl high rmse: 45.257336886792515\n",
      "      girl high rmse: 60.68236916841486\n",
      "      girl high rmse: 107.02811054848696\n",
      "      girl high rmse: 198.01175239604197\n",
      "      girl high rmse: 299.51724756206204\n",
      "      girl high rmse: 423.33901557292944\n",
      "Lighthouse high rmse: 13.918063344922643\n",
      "Lighthouse high rmse: 23.06966156805337\n",
      "Lighthouse high rmse: 32.04610838343199\n",
      "Lighthouse high rmse: 45.17096785990921\n",
      "Lighthouse high rmse: 67.36700702119137\n",
      "Lighthouse high rmse: 91.28364604444329\n",
      "Lighthouse high rmse: 158.82698564773253\n",
      "Lighthouse high rmse: 225.41047904607464\n",
      "Lighthouse high rmse: 297.20643807081086\n",
      "Lighthouse high rmse: 609.0444317771874\n",
      "       LAX high rmse: 23.318174913064762\n",
      "       LAX high rmse: 18.69214660971409\n",
      "       LAX high rmse: 38.657825102303576\n",
      "       LAX high rmse: 27.982384366441618\n",
      "       LAX high rmse: 70.3887952562773\n",
      "       LAX high rmse: 50.46660358486811\n",
      "       LAX high rmse: 136.67361282656918\n",
      "       LAX high rmse: 98.76309359901578\n",
      "       LAX high rmse: 324.8282199547123\n",
      "       LAX high rmse: 203.07305512413097\n",
      "  Airplane high rmse: 12.023758771872213\n",
      "  Airplane high rmse: 13.157588677628336\n",
      "  Airplane high rmse: 33.128023750393425\n",
      "  Airplane high rmse: 34.143690913818915\n",
      "  Airplane high rmse: 72.95349769198923\n",
      "  Airplane high rmse: 83.76690816762324\n",
      "  Airplane high rmse: 146.9053072708516\n",
      "  Airplane high rmse: 200.52362687740754\n",
      "  Airplane high rmse: 294.2907956981624\n",
      "  Airplane high rmse: 368.91897090129817\n",
      "Data amount = 366858\n",
      "ori.shape = (8, 16)\n"
     ]
    },
    {
     "data": {
      "image/png": "[encoded data removed]",
      "text/plain": [
       "<Figure size 720x360 with 5 Axes>"
      ]
     },
     "metadata": {
      "needs_background": "light"
     },
     "output_type": "display_data"
    }
   ],
   "source": [
    "# Training set\n",
    "dataLoader=readWTData()\n",
    "datasetMaker=makeDataset()\n",
    "in_list=glob.glob(\"ppwOut_New_5_Q/train/*/\")\n",
    "in_ori=\"ppwOut_New_5_NOQ\"\n",
    "for path0 in in_list[:]:\n",
    "    for lv in range(5):\n",
    "        imgName=re.findall(\"\\w+/\",path0)[-1][:-1]\n",
    "        \n",
    "        pathLow=path0+\"ewpLH-LCoefR_%d.dig\"%lv\n",
    "        pathHigh=path0+\"ewpLH-HCoef_%d.dig\"%lv\n",
    "        pathRes=path0+\"ewpLH-ImageR_%d.dig\"%lv\n",
    "        pathOri=in_ori+path0[path0.find(\"/\"):]+\"ewpLH-ImageR_%d.dig\"%lv\n",
    "        low,high,res,ori=dataLoader.makeImg(pathLow,pathHigh,pathRes,pathOri) # target is high\n",
    "        print(\"%10s high rmse:\"%imgName,rmse(high,0))\n",
    "        norm=datasetMaker.myN2(low,high,ori,res,width=w, height=h-1,normType=normType)\n",
    "    \n",
    "        pathLow=path0+\"ewpHL-LCoefR_%d.dig\"%lv\n",
    "        pathHigh=path0+\"ewpHL-HCoef_%d.dig\"%lv\n",
    "        pathRes=path0+\"ewpHL-ImageR_%d.dig\"%lv\n",
    "        pathOri=in_ori+path0[path0.find(\"/\"):]+\"ewpHL-ImageR_%d.dig\"%lv\n",
    "        low,high,res,ori=dataLoader.makeImg(pathLow,pathHigh,pathRes,pathOri) # target is high\n",
    "        print(\"%10s high rmse:\"%imgName,rmse(high,0))\n",
    "        norm=datasetMaker.myN2(low,high,ori,res,width=w, height=h-1,normType=normType)\n",
    "        \n",
    "        # pathLow=path0+\"ewpHH-LCoefR_%d.dig\"%lv\n",
    "        # pathHigh=path0+\"ewpHH-HCoef_%d.dig\"%lv\n",
    "        # pathRes=path0+\"ewpHH-ImageR_%d.dig\"%lv\n",
    "        # pathOri=in_ori+path0[path0.find(\"/\"):]+\"ewpHH-ImageR_%d.dig\"%lv\n",
    "        # low,high,res,ori=dataLoader.makeImg(pathLow,pathHigh,pathRes,pathOri) # target is high\n",
    "        # print(\"%10s rmse:\"%imgName,rmse(ori,res))\n",
    "        # datasetMaker.myN2(low,high,ori,res,width=w, height=h-1)\n",
    "    \n",
    "trainData=datasetMaker.out()\n",
    "datasetMaker.plot(low,high,ori,res,5)"
   ]
  },
  {
   "cell_type": "code",
   "execution_count": 29,
   "id": "bec137bc",
   "metadata": {},
   "outputs": [
    {
     "name": "stdout",
     "output_type": "stream",
     "text": [
      "   BARBARA high rmse: 27.01765747488869\n",
      "   BARBARA high rmse: 5.795756123443185\n",
      "   BARBARA high rmse: 45.434840895921205\n",
      "   BARBARA high rmse: 19.293615488109722\n",
      "   BARBARA high rmse: 55.212570626345524\n",
      "   BARBARA high rmse: 46.93373746299128\n",
      "   BARBARA high rmse: 158.8835315097545\n",
      "   BARBARA high rmse: 124.01351067727752\n",
      "   BARBARA high rmse: 426.20127271926594\n",
      "   BARBARA high rmse: 307.59421645940887\n",
      "Data amount = 40762\n",
      "ori.shape = (8, 16)\n"
     ]
    },
    {
     "data": {
      "image/png": "[encoded data removed]",
      "text/plain": [
       "<Figure size 720x360 with 5 Axes>"
      ]
     },
     "metadata": {
      "needs_background": "light"
     },
     "output_type": "display_data"
    }
   ],
   "source": [
    "# Vali set\n",
    "dataLoader=readWTData()\n",
    "datasetMaker=makeDataset()\n",
    "in_list=glob.glob(\"ppwOut_New_5_Q/val/*/\")\n",
    "in_list=['ppwOut_New_5_Q/val/BOAT/', 'ppwOut_New_5_Q/val/LENNA/', 'ppwOut_New_5_Q/val/BARBARA/']\n",
    "in_ori=\"ppwOut_New_5_NOQ\"\n",
    "imgind=2\n",
    "# for path0 in in_list:\n",
    "for path0 in in_list[imgind:imgind+1]:\n",
    "    for lv in range(5):\n",
    "        imgName=re.findall(\"\\w+/\",path0)[-1][:-1]\n",
    "\n",
    "        pathLow=path0+\"ewpLH-LCoefR_%d.dig\"%lv\n",
    "        pathHigh=path0+\"ewpLH-HCoef_%d.dig\"%lv\n",
    "        pathRes=path0+\"ewpLH-ImageR_%d.dig\"%lv\n",
    "        pathOri=in_ori+path0[path0.find(\"/\"):]+\"ewpLH-ImageR_%d.dig\"%lv\n",
    "        low,high,res,ori=dataLoader.makeImg(pathLow,pathHigh,pathRes,pathOri) # target is high\n",
    "        print(\"%10s high rmse:\"%imgName,rmse(high,np.average(high)))\n",
    "        norm=datasetMaker.myN2(low,high,ori,res,width=w, height=h-1,normType=normType)\n",
    "        \n",
    "        pathLow=path0+\"ewpHL-LCoefR_%d.dig\"%lv\n",
    "        pathHigh=path0+\"ewpHL-HCoef_%d.dig\"%lv\n",
    "        pathRes=path0+\"ewpHL-ImageR_%d.dig\"%lv\n",
    "        pathOri=in_ori+path0[path0.find(\"/\"):]+\"ewpHL-ImageR_%d.dig\"%lv\n",
    "        low,high,res,ori=dataLoader.makeImg(pathLow,pathHigh,pathRes,pathOri) # target is high\n",
    "        print(\"%10s high rmse:\"%imgName,rmse(high,0))\n",
    "        norm=datasetMaker.myN2(low,high,ori,res,width=w, height=h-1,normType=normType)\n",
    "\n",
    "        # pathLow=path0+\"ewpHH-LCoefR_%d.dig\"%lv\n",
    "        # pathHigh=path0+\"ewpHH-HCoef_%d.dig\"%lv\n",
    "        # pathRes=path0+\"ewpHH-ImageR_%d.dig\"%lv\n",
    "        # pathOri=in_ori+path0[path0.find(\"/\"):]+\"ewpHH-ImageR_%d.dig\"%lv\n",
    "        # low,high,res,ori=dataLoader.makeImg(pathLow,pathHigh,pathRes,pathOri) # target is high\n",
    "        # print(\"%10s rmse:\"%imgName,rmse(ori,res))\n",
    "        # datasetMaker.myN2(low,high,ori,res,width=w, height=h-1)\n",
    "    \n",
    "valData=datasetMaker.out()\n",
    "datasetMaker.plot(low,high,ori,res,5)"
   ]
  },
  {
   "cell_type": "code",
   "execution_count": 30,
   "id": "017f761b",
   "metadata": {},
   "outputs": [],
   "source": [
    "# train_size=len(inputTrain)//6*5\n",
    "# trainData,valData=torch.utils.data.random_split(inputTrain, [train_size, len(inputTrain)-train_size])"
   ]
  },
  {
   "cell_type": "code",
   "execution_count": 31,
   "id": "cooperative-nancy",
   "metadata": {},
   "outputs": [
    {
     "name": "stdout",
     "output_type": "stream",
     "text": [
      "366858 40762\n"
     ]
    }
   ],
   "source": [
    "device = torch.device(\"cuda\" if torch.cuda.is_available() else \"cpu\")\n",
    "torch.backends.cudnn.benchmark = True\n",
    "\n",
    "# criterion=MAELoss()\n",
    "criterion=RMSELoss()\n",
    "# criterion=ATANLoss()\n",
    "# criterion=QLoss()\n",
    "criterion.to(device)\n",
    "print(len(trainData),len(valData))"
   ]
  },
  {
   "cell_type": "code",
   "execution_count": 32,
   "id": "c641661f",
   "metadata": {},
   "outputs": [
    {
     "name": "stdout",
     "output_type": "stream",
     "text": [
      "input_size: 28\n",
      "DataParallel(\n",
      "  (module): Net_CNN(\n",
      "    (conv1): Conv2d(1, 32, kernel_size=(3, 3), stride=(1, 1), padding=(1, 1))\n",
      "    (conv2): Conv2d(32, 128, kernel_size=(3, 3), stride=(1, 1), padding=(1, 1))\n",
      "    (conv3): Conv2d(128, 512, kernel_size=(3, 3), stride=(1, 1), padding=(1, 1))\n",
      "    (fc1): Linear(in_features=14336, out_features=64, bias=True)\n",
      "    (fc2): Linear(in_features=64, out_features=1, bias=True)\n",
      "    (drop): Dropout(p=0.45, inplace=False)\n",
      "  )\n",
      ")\n",
      "Epoch     1 ||  Training   0.025682  ||  Validation   0.036197 ||  Vali_Qloss   0.000000\n",
      "Epoch     2 ||  Training   0.024325  ||  Validation   0.033659 ||  Vali_Qloss   0.000000\n",
      "Epoch     3 ||  Training   0.023873  ||  Validation   0.032916 ||  Vali_Qloss   0.000000\n",
      "Epoch     4 ||  Training   0.023659  ||  Validation   0.032208 ||  Vali_Qloss   0.000000\n",
      "Epoch     5 ||  Training   0.023446  ||  Validation   0.033559 ||  Vali_Qloss   0.000000\n",
      "Epoch     6 ||  Training   0.023244  ||  Validation   0.032171 ||  Vali_Qloss   0.000000\n",
      "Epoch     7 ||  Training   0.023117  ||  Validation   0.031677 ||  Vali_Qloss   0.000000\n",
      "Epoch     8 ||  Training   0.023007  ||  Validation   0.031033 ||  Vali_Qloss   0.000000\n",
      "Epoch     9 ||  Training   0.022890  ||  Validation   0.030670 ||  Vali_Qloss   0.000000\n",
      "Epoch    10 ||  Training   0.022755  ||  Validation   0.031666 ||  Vali_Qloss   0.000000\n",
      "Epoch    11 ||  Training   0.022574  ||  Validation   0.032901 ||  Vali_Qloss   0.000000\n",
      "Epoch    12 ||  Training   0.022409  ||  Validation   0.030101 ||  Vali_Qloss   0.000000\n",
      "Epoch    13 ||  Training   0.022286  ||  Validation   0.031895 ||  Vali_Qloss   0.000000\n",
      "Epoch    14 ||  Training   0.022107  ||  Validation   0.030592 ||  Vali_Qloss   0.000000\n",
      "Epoch    15 ||  Training   0.021965  ||  Validation   0.031197 ||  Vali_Qloss   0.000000\n",
      "Epoch    16 ||  Training   0.021732  ||  Validation   0.031669 ||  Vali_Qloss   0.000000\n",
      "Epoch    17 ||  Training   0.021612  ||  Validation   0.031676 ||  Vali_Qloss   0.000000\n",
      "Epoch    18 ||  Training   0.021434  ||  Validation   0.031318 ||  Vali_Qloss   0.000000\n",
      "Epoch    19 ||  Training   0.021250  ||  Validation   0.031237 ||  Vali_Qloss   0.000000\n",
      "Epoch    20 ||  Training   0.021053  ||  Validation   0.031779 ||  Vali_Qloss   0.000000\n",
      "Epoch    21 ||  Training   0.020909  ||  Validation   0.030990 ||  Vali_Qloss   0.000000\n",
      "Epoch    22 ||  Training   0.020697  ||  Validation   0.031135 ||  Vali_Qloss   0.000000\n",
      "Epoch    23 ||  Training   0.020520  ||  Validation   0.031951 ||  Vali_Qloss   0.000000\n",
      "Epoch    24 ||  Training   0.020290  ||  Validation   0.032162 ||  Vali_Qloss   0.000000\n",
      "Epoch    25 ||  Training   0.020166  ||  Validation   0.031340 ||  Vali_Qloss   0.000000\n",
      "Epoch    26 ||  Training   0.019966  ||  Validation   0.031931 ||  Vali_Qloss   0.000000\n",
      "Epoch    27 ||  Training   0.019812  ||  Validation   0.032477 ||  Vali_Qloss   0.000000\n",
      "Epoch    28 ||  Training   0.019588  ||  Validation   0.032439 ||  Vali_Qloss   0.000000\n",
      "Epoch    29 ||  Training   0.019398  ||  Validation   0.032208 ||  Vali_Qloss   0.000000\n",
      "Epoch    30 ||  Training   0.019162  ||  Validation   0.033421 ||  Vali_Qloss   0.000000\n",
      "Epoch    31 ||  Training   0.019009  ||  Validation   0.032606 ||  Vali_Qloss   0.000000\n",
      "Epoch    32 ||  Training   0.018853  ||  Validation   0.032814 ||  Vali_Qloss   0.000000\n",
      "Epoch    33 ||  Training   0.018656  ||  Validation   0.032974 ||  Vali_Qloss   0.000000\n",
      "Epoch    34 ||  Training   0.018465  ||  Validation   0.033045 ||  Vali_Qloss   0.000000\n",
      "Epoch    35 ||  Training   0.018300  ||  Validation   0.033245 ||  Vali_Qloss   0.000000\n",
      "Epoch    36 ||  Training   0.018110  ||  Validation   0.033471 ||  Vali_Qloss   0.000000\n",
      "Epoch    37 ||  Training   0.017953  ||  Validation   0.033813 ||  Vali_Qloss   0.000000\n",
      "Epoch    38 ||  Training   0.017785  ||  Validation   0.034245 ||  Vali_Qloss   0.000000\n",
      "Epoch    39 ||  Training   0.017644  ||  Validation   0.033422 ||  Vali_Qloss   0.000000\n",
      "Epoch    40 ||  Training   0.017539  ||  Validation   0.034174 ||  Vali_Qloss   0.000000\n",
      "Epoch    41 ||  Training   0.017294  ||  Validation   0.033663 ||  Vali_Qloss   0.000000\n",
      "Epoch    42 ||  Training   0.017196  ||  Validation   0.033632 ||  Vali_Qloss   0.000000\n",
      "Epoch    43 ||  Training   0.017028  ||  Validation   0.033637 ||  Vali_Qloss   0.000000\n",
      "Epoch    44 ||  Training   0.016887  ||  Validation   0.033390 ||  Vali_Qloss   0.000000\n",
      "Epoch    45 ||  Training   0.016747  ||  Validation   0.033234 ||  Vali_Qloss   0.000000\n",
      "Epoch    46 ||  Training   0.016627  ||  Validation   0.033206 ||  Vali_Qloss   0.000000\n",
      "Epoch    47 ||  Training   0.016473  ||  Validation   0.034054 ||  Vali_Qloss   0.000000\n",
      "Epoch    48 ||  Training   0.016330  ||  Validation   0.033953 ||  Vali_Qloss   0.000000\n",
      "Epoch    49 ||  Training   0.016250  ||  Validation   0.033624 ||  Vali_Qloss   0.000000\n",
      "Epoch    50 ||  Training   0.016096  ||  Validation   0.033579 ||  Vali_Qloss   0.000000\n",
      "Epoch    51 ||  Training   0.015960  ||  Validation   0.034600 ||  Vali_Qloss   0.000000\n",
      "Epoch    52 ||  Training   0.015872  ||  Validation   0.033865 ||  Vali_Qloss   0.000000\n",
      "Epoch    53 ||  Training   0.015748  ||  Validation   0.033846 ||  Vali_Qloss   0.000000\n",
      "Epoch    54 ||  Training   0.015700  ||  Validation   0.033145 ||  Vali_Qloss   0.000000\n",
      "Epoch    55 ||  Training   0.015571  ||  Validation   0.034089 ||  Vali_Qloss   0.000000\n",
      "Epoch    56 ||  Training   0.015435  ||  Validation   0.033827 ||  Vali_Qloss   0.000000\n",
      "Epoch    57 ||  Training   0.015336  ||  Validation   0.034461 ||  Vali_Qloss   0.000000\n",
      "Epoch    58 ||  Training   0.015263  ||  Validation   0.033925 ||  Vali_Qloss   0.000000\n",
      "Epoch    59 ||  Training   0.015140  ||  Validation   0.033973 ||  Vali_Qloss   0.000000\n",
      "Epoch    60 ||  Training   0.015077  ||  Validation   0.033921 ||  Vali_Qloss   0.000000\n",
      "Epoch    61 ||  Training   0.014967  ||  Validation   0.033750 ||  Vali_Qloss   0.000000\n",
      "Epoch    62 ||  Training   0.014899  ||  Validation   0.034442 ||  Vali_Qloss   0.000000\n",
      "Epoch    63 ||  Training   0.014777  ||  Validation   0.034288 ||  Vali_Qloss   0.000000\n",
      "Epoch    64 ||  Training   0.014767  ||  Validation   0.034286 ||  Vali_Qloss   0.000000\n",
      "Epoch    65 ||  Training   0.014713  ||  Validation   0.033830 ||  Vali_Qloss   0.000000\n",
      "Epoch    66 ||  Training   0.014566  ||  Validation   0.034271 ||  Vali_Qloss   0.000000\n",
      "Epoch    67 ||  Training   0.014527  ||  Validation   0.034112 ||  Vali_Qloss   0.000000\n",
      "Epoch    68 ||  Training   0.014422  ||  Validation   0.034044 ||  Vali_Qloss   0.000000\n",
      "Epoch    69 ||  Training   0.014372  ||  Validation   0.033773 ||  Vali_Qloss   0.000000\n",
      "Epoch    70 ||  Training   0.014269  ||  Validation   0.034222 ||  Vali_Qloss   0.000000\n",
      "Epoch    71 ||  Training   0.014213  ||  Validation   0.033915 ||  Vali_Qloss   0.000000\n",
      "Epoch    72 ||  Training   0.014151  ||  Validation   0.033795 ||  Vali_Qloss   0.000000\n",
      "Epoch    73 ||  Training   0.014090  ||  Validation   0.033593 ||  Vali_Qloss   0.000000\n",
      "Epoch    74 ||  Training   0.014005  ||  Validation   0.034503 ||  Vali_Qloss   0.000000\n",
      "Epoch    75 ||  Training   0.013970  ||  Validation   0.033519 ||  Vali_Qloss   0.000000\n",
      "Epoch    76 ||  Training   0.013911  ||  Validation   0.034258 ||  Vali_Qloss   0.000000\n",
      "Epoch    77 ||  Training   0.013856  ||  Validation   0.034083 ||  Vali_Qloss   0.000000\n",
      "Epoch    78 ||  Training   0.013809  ||  Validation   0.034577 ||  Vali_Qloss   0.000000\n",
      "Epoch    79 ||  Training   0.013762  ||  Validation   0.033819 ||  Vali_Qloss   0.000000\n",
      "Epoch    80 ||  Training   0.013692  ||  Validation   0.035123 ||  Vali_Qloss   0.000000\n",
      "Epoch    81 ||  Training   0.013657  ||  Validation   0.033944 ||  Vali_Qloss   0.000000\n",
      "Epoch    82 ||  Training   0.013572  ||  Validation   0.034050 ||  Vali_Qloss   0.000000\n",
      "Epoch    83 ||  Training   0.013574  ||  Validation   0.034128 ||  Vali_Qloss   0.000000\n",
      "Epoch    84 ||  Training   0.013477  ||  Validation   0.034209 ||  Vali_Qloss   0.000000\n",
      "Epoch    85 ||  Training   0.013459  ||  Validation   0.034941 ||  Vali_Qloss   0.000000\n",
      "Epoch    86 ||  Training   0.013411  ||  Validation   0.034289 ||  Vali_Qloss   0.000000\n",
      "Epoch    87 ||  Training   0.013330  ||  Validation   0.034292 ||  Vali_Qloss   0.000000\n",
      "Epoch    88 ||  Training   0.013274  ||  Validation   0.033336 ||  Vali_Qloss   0.000000\n",
      "Epoch    89 ||  Training   0.013296  ||  Validation   0.033759 ||  Vali_Qloss   0.000000\n",
      "Epoch    90 ||  Training   0.013233  ||  Validation   0.034720 ||  Vali_Qloss   0.000000\n",
      "Epoch    91 ||  Training   0.013199  ||  Validation   0.033842 ||  Vali_Qloss   0.000000\n",
      "Epoch    92 ||  Training   0.013138  ||  Validation   0.034656 ||  Vali_Qloss   0.000000\n",
      "Epoch    93 ||  Training   0.013108  ||  Validation   0.033765 ||  Vali_Qloss   0.000000\n"
     ]
    },
    {
     "ename": "KeyboardInterrupt",
     "evalue": "",
     "output_type": "error",
     "traceback": [
      "\u001b[0;31m---------------------------------------------------------------------------\u001b[0m",
      "\u001b[0;31mKeyboardInterrupt\u001b[0m                         Traceback (most recent call last)",
      "\u001b[0;32m/tmp/ipykernel_1068814/955104816.py\u001b[0m in \u001b[0;36m<module>\u001b[0;34m\u001b[0m\n\u001b[1;32m     26\u001b[0m \u001b[0mlosses\u001b[0m\u001b[0;34m=\u001b[0m\u001b[0;34m[\u001b[0m\u001b[0;34m]\u001b[0m\u001b[0;34m\u001b[0m\u001b[0;34m\u001b[0m\u001b[0m\n\u001b[1;32m     27\u001b[0m \u001b[0;32mfor\u001b[0m \u001b[0mi\u001b[0m \u001b[0;32min\u001b[0m \u001b[0mrange\u001b[0m\u001b[0;34m(\u001b[0m\u001b[0mn_epochs\u001b[0m\u001b[0;34m)\u001b[0m\u001b[0;34m:\u001b[0m\u001b[0;34m\u001b[0m\u001b[0;34m\u001b[0m\u001b[0m\n\u001b[0;32m---> 28\u001b[0;31m     \u001b[0mvalLoss\u001b[0m\u001b[0;34m,\u001b[0m\u001b[0mtrainLoss\u001b[0m\u001b[0;34m,\u001b[0m\u001b[0mqLoss\u001b[0m\u001b[0;34m=\u001b[0m\u001b[0mtrainer\u001b[0m\u001b[0;34m.\u001b[0m\u001b[0mtrainS1\u001b[0m\u001b[0;34m(\u001b[0m\u001b[0mmodel\u001b[0m\u001b[0;34m,\u001b[0m\u001b[0mi\u001b[0m\u001b[0;34m,\u001b[0m\u001b[0mtrain_loader\u001b[0m\u001b[0;34m,\u001b[0m\u001b[0mvali_loader\u001b[0m\u001b[0;34m,\u001b[0m\u001b[0mcriterion\u001b[0m\u001b[0;34m,\u001b[0m\u001b[0moptimizer\u001b[0m\u001b[0;34m)\u001b[0m\u001b[0;34m\u001b[0m\u001b[0;34m\u001b[0m\u001b[0m\n\u001b[0m\u001b[1;32m     29\u001b[0m     checkpoint = {\n\u001b[1;32m     30\u001b[0m         \u001b[0;34m'state_dict'\u001b[0m\u001b[0;34m:\u001b[0m \u001b[0mmodel\u001b[0m\u001b[0;34m.\u001b[0m\u001b[0mmodule\u001b[0m\u001b[0;34m.\u001b[0m\u001b[0mstate_dict\u001b[0m\u001b[0;34m(\u001b[0m\u001b[0;34m)\u001b[0m\u001b[0;34m,\u001b[0m\u001b[0;34m\u001b[0m\u001b[0;34m\u001b[0m\u001b[0m\n",
      "\u001b[0;32m/export/work/kamomes/Research/myfuc/trainScript.py\u001b[0m in \u001b[0;36mtrainS1\u001b[0;34m(self, NET, epoch, train_loader, vali_loader, criterion, optimizer)\u001b[0m\n\u001b[1;32m     53\u001b[0m             \u001b[0;32mif\u001b[0m \u001b[0mtorch\u001b[0m\u001b[0;34m.\u001b[0m\u001b[0mcuda\u001b[0m\u001b[0;34m.\u001b[0m\u001b[0mis_available\u001b[0m\u001b[0;34m(\u001b[0m\u001b[0;34m)\u001b[0m\u001b[0;34m:\u001b[0m\u001b[0;34m\u001b[0m\u001b[0;34m\u001b[0m\u001b[0m\n\u001b[1;32m     54\u001b[0m                 \u001b[0mdata\u001b[0m\u001b[0;34m,\u001b[0m \u001b[0mtarget\u001b[0m \u001b[0;34m=\u001b[0m \u001b[0mdata\u001b[0m\u001b[0;34m.\u001b[0m\u001b[0mcuda\u001b[0m\u001b[0;34m(\u001b[0m\u001b[0;34m)\u001b[0m\u001b[0;34m,\u001b[0m\u001b[0mtarget\u001b[0m\u001b[0;34m.\u001b[0m\u001b[0mcuda\u001b[0m\u001b[0;34m(\u001b[0m\u001b[0;34m)\u001b[0m\u001b[0;34m\u001b[0m\u001b[0;34m\u001b[0m\u001b[0m\n\u001b[0;32m---> 55\u001b[0;31m             \u001b[0moptimizer\u001b[0m\u001b[0;34m.\u001b[0m\u001b[0mzero_grad\u001b[0m\u001b[0;34m(\u001b[0m\u001b[0;34m)\u001b[0m\u001b[0;34m\u001b[0m\u001b[0;34m\u001b[0m\u001b[0m\n\u001b[0m\u001b[1;32m     56\u001b[0m             \u001b[0moutput\u001b[0m \u001b[0;34m=\u001b[0m \u001b[0mNET\u001b[0m\u001b[0;34m(\u001b[0m\u001b[0mdata\u001b[0m\u001b[0;34m)\u001b[0m\u001b[0;34m\u001b[0m\u001b[0;34m\u001b[0m\u001b[0m\n\u001b[1;32m     57\u001b[0m             \u001b[0mloss\u001b[0m \u001b[0;34m=\u001b[0m \u001b[0mcriterion\u001b[0m\u001b[0;34m(\u001b[0m\u001b[0moutput\u001b[0m\u001b[0;34m,\u001b[0m \u001b[0mtarget\u001b[0m\u001b[0;34m)\u001b[0m\u001b[0;34m\u001b[0m\u001b[0;34m\u001b[0m\u001b[0m\n",
      "\u001b[0;32m/usr/local/lib/python3.8/dist-packages/torch/optim/optimizer.py\u001b[0m in \u001b[0;36mzero_grad\u001b[0;34m(self, set_to_none)\u001b[0m\n\u001b[1;32m    190\u001b[0m                         \u001b[0;32melse\u001b[0m\u001b[0;34m:\u001b[0m\u001b[0;34m\u001b[0m\u001b[0;34m\u001b[0m\u001b[0m\n\u001b[1;32m    191\u001b[0m                             \u001b[0mp\u001b[0m\u001b[0;34m.\u001b[0m\u001b[0mgrad\u001b[0m\u001b[0;34m.\u001b[0m\u001b[0mrequires_grad_\u001b[0m\u001b[0;34m(\u001b[0m\u001b[0;32mFalse\u001b[0m\u001b[0;34m)\u001b[0m\u001b[0;34m\u001b[0m\u001b[0;34m\u001b[0m\u001b[0m\n\u001b[0;32m--> 192\u001b[0;31m                         \u001b[0mp\u001b[0m\u001b[0;34m.\u001b[0m\u001b[0mgrad\u001b[0m\u001b[0;34m.\u001b[0m\u001b[0mzero_\u001b[0m\u001b[0;34m(\u001b[0m\u001b[0;34m)\u001b[0m\u001b[0;34m\u001b[0m\u001b[0;34m\u001b[0m\u001b[0m\n\u001b[0m\u001b[1;32m    193\u001b[0m \u001b[0;34m\u001b[0m\u001b[0m\n\u001b[1;32m    194\u001b[0m     \u001b[0;32mdef\u001b[0m \u001b[0mstep\u001b[0m\u001b[0;34m(\u001b[0m\u001b[0mself\u001b[0m\u001b[0;34m,\u001b[0m \u001b[0mclosure\u001b[0m\u001b[0;34m)\u001b[0m\u001b[0;34m:\u001b[0m\u001b[0;34m\u001b[0m\u001b[0;34m\u001b[0m\u001b[0m\n",
      "\u001b[0;32m/usr/local/lib/python3.8/dist-packages/torch/tensor.py\u001b[0m in \u001b[0;36mgrad\u001b[0;34m(self)\u001b[0m\n\u001b[1;32m    931\u001b[0m             \u001b[0;32mreturn\u001b[0m \u001b[0msuper\u001b[0m\u001b[0;34m(\u001b[0m\u001b[0mTensor\u001b[0m\u001b[0;34m,\u001b[0m \u001b[0mself\u001b[0m\u001b[0;34m)\u001b[0m\u001b[0;34m.\u001b[0m\u001b[0mrename\u001b[0m\u001b[0;34m(\u001b[0m\u001b[0mnames\u001b[0m\u001b[0;34m)\u001b[0m\u001b[0;34m\u001b[0m\u001b[0;34m\u001b[0m\u001b[0m\n\u001b[1;32m    932\u001b[0m \u001b[0;34m\u001b[0m\u001b[0m\n\u001b[0;32m--> 933\u001b[0;31m     \u001b[0;34m@\u001b[0m\u001b[0mproperty\u001b[0m\u001b[0;34m\u001b[0m\u001b[0;34m\u001b[0m\u001b[0m\n\u001b[0m\u001b[1;32m    934\u001b[0m     \u001b[0;32mdef\u001b[0m \u001b[0mgrad\u001b[0m\u001b[0;34m(\u001b[0m\u001b[0mself\u001b[0m\u001b[0;34m)\u001b[0m\u001b[0;34m:\u001b[0m\u001b[0;34m\u001b[0m\u001b[0;34m\u001b[0m\u001b[0m\n\u001b[1;32m    935\u001b[0m         \"\"\"\n",
      "\u001b[0;31mKeyboardInterrupt\u001b[0m: "
     ]
    }
   ],
   "source": [
    "print(\"input_size: %d\"%(w*h))\n",
    "model=Net_CNN(w*h,4.5)\n",
    "# model=Net_CNN(w*h,3)\n",
    "# model=Net_CNN_simp(w*h,4.5)\n",
    "\n",
    "n_epochs = 100\n",
    "log_interval,random_seed = 10,1\n",
    "learning_rate=0.0002\n",
    "betas0=(0.5,0.999)\n",
    "batch_size = 16\n",
    "\n",
    "\n",
    "torch.manual_seed(random_seed)\n",
    "train_loader= DataLoader(trainData,batch_size=batch_size,shuffle=1)\n",
    "vali_loader = DataLoader(valData,batch_size=batch_size,shuffle=1)\n",
    "# model = nn.DataParallel(model, device_ids=[0]).to(device)\n",
    "model = nn.DataParallel(model).to(device)\n",
    "optimizer = optim.Adam(model.parameters(),lr=learning_rate,betas=betas0)\n",
    "print(model)\n",
    "\n",
    "trainer=trainS()\n",
    "best=float(\"inf\")\n",
    "# modelPath=\"my_74_2H_dp45_norm2_lr2_net2/\"\n",
    "modelPath=\"my_74_2H_dp45_norm2_lr2_net1/\"\n",
    "os.makedirs(modelPath, exist_ok=True)\n",
    "losses=[]\n",
    "for i in range(n_epochs):\n",
    "    valLoss,trainLoss,qLoss=trainer.trainS1(model,i,train_loader,vali_loader,criterion,optimizer)\n",
    "    checkpoint = {\n",
    "        'state_dict': model.module.state_dict(),\n",
    "        'opt_state_dict': optimizer.state_dict(),\n",
    "        'epoch': i\n",
    "    }\n",
    "    losses.append(valLoss)\n",
    "    losses.append(trainLoss)\n",
    "    losses.append(qLoss)\n",
    "\n",
    "    torch.save(checkpoint, modelPath+\"checkpoint%03d.pt\"%i)\n",
    "    if valLoss<best:\n",
    "        torch.save(checkpoint, modelPath+\"best%03d.pt\"%i)\n",
    "        best=valLoss\n"
   ]
  },
  {
   "cell_type": "code",
   "execution_count": 33,
   "id": "686dc38d",
   "metadata": {},
   "outputs": [
    {
     "data": {
      "image/png": "[encoded data removed]",
      "text/plain": [
       "<Figure size 432x288 with 1 Axes>"
      ]
     },
     "metadata": {
      "needs_background": "light"
     },
     "output_type": "display_data"
    }
   ],
   "source": [
    "plt.plot(losses[1::3],label=\"Train\")\n",
    "plt.plot(losses[::3],label=\"Validation\",color=\"r\")\n",
    "plt.xlabel(\"epoch\")\n",
    "plt.legend()\n",
    "plt.savefig(modelPath+\"epochs.png\")"
   ]
  },
  {
   "cell_type": "code",
   "execution_count": 14,
   "id": "b272ac66",
   "metadata": {},
   "outputs": [
    {
     "data": {
      "image/png": "[encoded data removed]",
      "text/plain": [
       "<Figure size 432x288 with 2 Axes>"
      ]
     },
     "metadata": {
      "needs_background": "light"
     },
     "output_type": "display_data"
    }
   ],
   "source": [
    "nohup ./ppwCoder > log10.log 2>&1 &\n",
    "panda 20\n",
    "cow 10\n",
    "jaguar 30\n",
    "rat 50"
   ]
  },
  {
   "cell_type": "code",
   "execution_count": 13,
   "id": "64d7271d",
   "metadata": {},
   "outputs": [
    {
     "name": "stdout",
     "output_type": "stream",
     "text": [
      "module.conv1.weight torch.Size([32, 1, 3, 3])\n",
      "module.conv1.bias torch.Size([32])\n",
      "module.conv2.weight torch.Size([128, 32, 3, 3])\n",
      "module.conv2.bias torch.Size([128])\n",
      "module.conv3.weight torch.Size([512, 128, 3, 3])\n",
      "module.conv3.bias torch.Size([512])\n",
      "module.fc1.weight torch.Size([64, 14336])\n",
      "module.fc1.bias torch.Size([64])\n",
      "module.fc2.weight torch.Size([1, 64])\n",
      "module.fc2.bias torch.Size([1])\n",
      "parameter num = 1545281\n"
     ]
    }
   ],
   "source": [
    "for name, param in model.named_parameters():\n",
    "    if param.requires_grad:\n",
    "        print(name,param.size())\n",
    "pp=0\n",
    "for p in list(model.parameters()):\n",
    "    nn=1\n",
    "    for s in list(p.size()):\n",
    "        nn = nn*s\n",
    "    pp += nn\n",
    "print(\"parameter num = %d\"%pp)"
   ]
  },
  {
   "cell_type": "code",
   "execution_count": null,
   "id": "a75ed2ae",
   "metadata": {},
   "outputs": [],
   "source": []
  }
 ],
 "metadata": {
  "interpreter": {
   "hash": "916dbcbb3f70747c44a77c7bcd40155683ae19c65e1c03b4aa3499c5328201f1"
  },
  "kernelspec": {
   "display_name": "Python 3 (ipykernel)",
   "language": "python",
   "name": "python3"
  },
  "language_info": {
   "codemirror_mode": {
    "name": "ipython",
    "version": 3
   },
   "file_extension": ".py",
   "mimetype": "text/x-python",
   "name": "python",
   "nbconvert_exporter": "python",
   "pygments_lexer": "ipython3",
   "version": "3.9.7"
  }
 },
 "nbformat": 4,
 "nbformat_minor": 5
}
